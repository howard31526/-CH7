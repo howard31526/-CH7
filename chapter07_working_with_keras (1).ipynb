{
  "cells": [
    {
      "cell_type": "markdown",
      "metadata": {
        "id": "wy_YvN4OClWz"
      },
      "source": [
        "# 長庚大學資訊工程學系: 樣形式別 CH7作業練習"
      ]
    },
    {
      "cell_type": "markdown",
      "metadata": {
        "id": "fWrKhrCEClW0"
      },
      "source": [
        "**The `Sequential` class**"
      ]
    },
    {
      "cell_type": "code",
      "execution_count": 2,
      "metadata": {
        "id": "YKzusnAsClW0"
      },
      "outputs": [],
      "source": [
        "from tensorflow import keras\n",
        "from tensorflow.keras import layers\n",
        "\n",
        "model = keras.Sequential([\n",
        "    layers.Dense(64, activation=\"relu\"),\n",
        "    layers.Dense(10, activation=\"softmax\")\n",
        "])"
      ]
    },
    {
      "cell_type": "markdown",
      "metadata": {
        "id": "sVwlQ9-nClW0"
      },
      "source": [
        "**Incrementally building a Sequential model**"
      ]
    },
    {
      "cell_type": "code",
      "execution_count": 5,
      "metadata": {
        "id": "FKKOiJSoClW0"
      },
      "outputs": [],
      "source": [
        "model = keras.Sequential()\n",
        "model.add(layers.Dense(128, activation=\"relu\"))\n",
        "model.add(layers.Dense(12, activation=\"softmax\"))"
      ]
    },
    {
      "cell_type": "markdown",
      "metadata": {
        "id": "_XdkYBjuClW1"
      },
      "source": [
        "**Calling a model for the first time to build it**"
      ]
    },
    {
      "cell_type": "code",
      "execution_count": 6,
      "metadata": {
        "colab": {
          "base_uri": "https://localhost:8080/"
        },
        "id": "gJUCtEyBClW1",
        "outputId": "54db3904-80e5-42d0-878f-f9f7e817109e"
      },
      "outputs": [
        {
          "output_type": "execute_result",
          "data": {
            "text/plain": [
              "[<tf.Variable 'dense_4/kernel:0' shape=(4, 128) dtype=float32, numpy=\n",
              " array([[-0.20248513,  0.10774726, -0.18046981, -0.02257197,  0.00916845,\n",
              "         -0.01765834,  0.0260359 , -0.02529716, -0.20568123,  0.07532877,\n",
              "         -0.03940614,  0.0703364 ,  0.12030852,  0.14518303, -0.11467899,\n",
              "          0.12623394, -0.09865385, -0.05848134,  0.17041484,  0.09645703,\n",
              "          0.12614453,  0.188629  , -0.12479623, -0.03464109,  0.08079737,\n",
              "         -0.13340217, -0.12255733,  0.09668821, -0.01844276,  0.11011654,\n",
              "         -0.14206709,  0.02463138,  0.20863351,  0.19874665,  0.17809272,\n",
              "          0.12573245,  0.14420718, -0.16950881, -0.0494055 , -0.13192448,\n",
              "         -0.0077931 , -0.04675548,  0.11569336,  0.05343437, -0.12237231,\n",
              "         -0.1657402 , -0.00791094, -0.0045478 , -0.0382203 , -0.10111488,\n",
              "         -0.07956862,  0.02747747, -0.13400555, -0.06528094,  0.03691924,\n",
              "         -0.17213735,  0.18159053,  0.07009333, -0.08464563, -0.17454338,\n",
              "         -0.05678774, -0.13340396,  0.00209185,  0.04198056, -0.03421211,\n",
              "         -0.20697138,  0.1800806 ,  0.2077646 , -0.20809911,  0.18415803,\n",
              "         -0.01605269, -0.00447994,  0.15501508, -0.06636573, -0.00380358,\n",
              "          0.1319902 ,  0.07242307, -0.0868883 ,  0.16086602, -0.03325416,\n",
              "          0.06181854,  0.18828171,  0.19401655, -0.13629472,  0.1764383 ,\n",
              "         -0.09896356,  0.05785936,  0.02364989,  0.19878682, -0.03948247,\n",
              "         -0.13820815, -0.10540435, -0.16541494, -0.19810624,  0.1198729 ,\n",
              "         -0.13815707,  0.1595915 ,  0.11545619, -0.09840091,  0.20384207,\n",
              "          0.01175609,  0.12553355,  0.1726147 ,  0.13439608,  0.2005282 ,\n",
              "         -0.04203607, -0.04610103, -0.10621323,  0.09250736,  0.0128814 ,\n",
              "         -0.01564945,  0.20883709, -0.01051298, -0.08866026, -0.01245655,\n",
              "          0.13595182,  0.04443479,  0.18311927,  0.03612494, -0.19977045,\n",
              "         -0.17270732,  0.09953749, -0.0753926 , -0.18612777, -0.09298771,\n",
              "          0.18277404, -0.02612734,  0.19520462],\n",
              "        [ 0.09869018, -0.2071437 ,  0.1519126 ,  0.13649067,  0.20470995,\n",
              "         -0.06180939,  0.07765511, -0.176682  ,  0.18421316, -0.17227107,\n",
              "          0.13824877,  0.05938527, -0.09520257,  0.07573131, -0.08651753,\n",
              "          0.00083317,  0.10125706,  0.21106708,  0.03567493, -0.09841748,\n",
              "         -0.13411015, -0.19555214,  0.1304451 , -0.07607055, -0.17013669,\n",
              "          0.02365583,  0.03358939,  0.12422153,  0.02186775,  0.19404164,\n",
              "         -0.19046025, -0.16273868,  0.1992256 , -0.02171236, -0.05864313,\n",
              "          0.027015  ,  0.0185495 , -0.00023596,  0.02251829,  0.04219702,\n",
              "          0.20123246,  0.09995589,  0.16604245, -0.05515552, -0.14284734,\n",
              "         -0.02601485,  0.11606494, -0.10150165,  0.1574544 , -0.18786456,\n",
              "          0.20454878, -0.10933664,  0.19238171, -0.13947958,  0.06692687,\n",
              "         -0.02368614,  0.05530486,  0.20305592,  0.09442064,  0.10655624,\n",
              "         -0.11825693,  0.0972648 ,  0.13230139,  0.09122154,  0.11939809,\n",
              "         -0.20786123,  0.11723873, -0.10073751, -0.0414747 ,  0.03640853,\n",
              "         -0.19628797, -0.07199384, -0.08672102,  0.09320015,  0.0112516 ,\n",
              "          0.08489078,  0.04616046,  0.13409558, -0.00721343,  0.09659469,\n",
              "         -0.17532602, -0.01626079, -0.17285116,  0.16336757,  0.05688748,\n",
              "         -0.08072005,  0.01068112,  0.15909684,  0.08572245, -0.05606951,\n",
              "         -0.11325485,  0.16683227, -0.15417528, -0.16763793, -0.12266565,\n",
              "          0.14092726,  0.05433276,  0.1015994 , -0.05676843,  0.00245641,\n",
              "         -0.1974392 , -0.04888043, -0.17369607, -0.16445799,  0.00928149,\n",
              "         -0.17481512, -0.1926962 , -0.16958019, -0.02030241,  0.00740938,\n",
              "          0.10896429,  0.14391938, -0.09262529, -0.06754771, -0.13939978,\n",
              "         -0.20736182, -0.05856952,  0.05968857, -0.06816094, -0.05376366,\n",
              "          0.02110849, -0.2109944 ,  0.18352416, -0.07067035,  0.10231155,\n",
              "         -0.20562604,  0.1728422 ,  0.15675679],\n",
              "        [ 0.05161431, -0.1709175 , -0.05448978, -0.01237299,  0.00947073,\n",
              "          0.17729759,  0.20721933, -0.11081506,  0.06514579, -0.02123643,\n",
              "         -0.09094425, -0.11905091,  0.05684671,  0.14742985, -0.01816812,\n",
              "          0.05730444,  0.0082113 ,  0.03149042, -0.12602314,  0.1300259 ,\n",
              "          0.09294063,  0.21202424, -0.0008505 , -0.01843874, -0.14774507,\n",
              "          0.11769849, -0.12849572, -0.09216735,  0.08943173,  0.12427363,\n",
              "          0.13891304, -0.17135607, -0.1255433 , -0.08032088,  0.1467003 ,\n",
              "          0.1143896 ,  0.13516662, -0.08757415,  0.18655422, -0.07977296,\n",
              "          0.12353924, -0.15997724,  0.06098279, -0.09376817,  0.01546605,\n",
              "          0.08147123,  0.15821111,  0.01484068,  0.01223727, -0.1350483 ,\n",
              "         -0.13400646,  0.16105843,  0.09174123,  0.08239499, -0.06619067,\n",
              "         -0.19109482,  0.14753237, -0.17833872, -0.13015464, -0.03651837,\n",
              "         -0.0989297 , -0.06100108,  0.16890979, -0.11959897, -0.18915862,\n",
              "         -0.09224965, -0.03985192,  0.11947361,  0.1743061 ,  0.01166698,\n",
              "         -0.12998319,  0.15937805, -0.04137233,  0.06317511, -0.17996201,\n",
              "          0.063077  , -0.12229733, -0.11231219,  0.0267759 , -0.00909361,\n",
              "          0.19195732,  0.04940778,  0.00962953,  0.1988248 ,  0.02043529,\n",
              "         -0.06123312, -0.16387253, -0.04684754, -0.00544548,  0.10738114,\n",
              "         -0.17821246,  0.00977714,  0.06026688, -0.17150465,  0.09676859,\n",
              "         -0.15459317, -0.13312632, -0.04488958,  0.05248001,  0.17668575,\n",
              "          0.04715532,  0.14718878,  0.16546863, -0.08523156, -0.0180999 ,\n",
              "          0.00452177,  0.05864567, -0.1856039 , -0.15868258, -0.1281432 ,\n",
              "         -0.0727769 ,  0.06381911, -0.1562103 , -0.02852489, -0.06408826,\n",
              "          0.1609694 ,  0.10874435,  0.1465489 , -0.12534606, -0.04654302,\n",
              "         -0.00633289,  0.10200042,  0.10154131, -0.04721637, -0.14420362,\n",
              "          0.17030427, -0.0712603 ,  0.19265375],\n",
              "        [ 0.03339013,  0.06964144, -0.06854653,  0.11601084,  0.12454116,\n",
              "          0.1925337 ,  0.17274702, -0.1266472 , -0.07489309, -0.21300471,\n",
              "         -0.14846626,  0.02179298, -0.04194194,  0.1883919 , -0.12926114,\n",
              "          0.15521848,  0.15074766, -0.12739679,  0.04974973,  0.10063192,\n",
              "         -0.11720574,  0.18056992, -0.09327069, -0.16626407, -0.13565466,\n",
              "          0.13808087,  0.14933923, -0.1407901 , -0.11538009, -0.08118586,\n",
              "          0.06667769, -0.14092319, -0.20932059, -0.04458191,  0.20674619,\n",
              "          0.09956759,  0.04009607, -0.0761776 ,  0.08751002, -0.06497225,\n",
              "         -0.01379259,  0.08386025, -0.0590817 , -0.14862104,  0.11745694,\n",
              "          0.01230705, -0.05232377,  0.06453672, -0.18658423, -0.06538241,\n",
              "          0.00494215, -0.04117155,  0.20421538,  0.07538971,  0.20577058,\n",
              "          0.20152256, -0.01436195, -0.21169958, -0.13553745,  0.0126802 ,\n",
              "         -0.18324326, -0.06364627, -0.18051638, -0.1025108 , -0.14294103,\n",
              "         -0.02870631, -0.00251782,  0.18600258, -0.00826386,  0.17636597,\n",
              "          0.05494654,  0.07125303,  0.18615878, -0.03918599, -0.15275156,\n",
              "         -0.03333697, -0.17819014, -0.02861786,  0.02917914, -0.14225665,\n",
              "         -0.10995526,  0.01637821,  0.08076468, -0.00733349, -0.1430184 ,\n",
              "          0.02324411, -0.12401807,  0.1161077 , -0.20986417,  0.06735724,\n",
              "          0.1619767 ,  0.21287245, -0.01267411,  0.10683575, -0.14640659,\n",
              "          0.09898561,  0.09443635, -0.09364673,  0.07121721,  0.11512858,\n",
              "         -0.07464173, -0.05320665, -0.12737763,  0.00566888,  0.06187502,\n",
              "          0.01263821, -0.10851964,  0.08446243,  0.05790609,  0.05764979,\n",
              "         -0.01354931,  0.09761328,  0.20769444, -0.13774407,  0.10368153,\n",
              "         -0.18431874, -0.03634244,  0.19042152, -0.1026822 ,  0.16724944,\n",
              "          0.08331889, -0.12936752, -0.06262015, -0.02827215,  0.15513697,\n",
              "          0.19492763, -0.02381103,  0.06588227]], dtype=float32)>,\n",
              " <tf.Variable 'dense_4/bias:0' shape=(128,) dtype=float32, numpy=\n",
              " array([0., 0., 0., 0., 0., 0., 0., 0., 0., 0., 0., 0., 0., 0., 0., 0., 0.,\n",
              "        0., 0., 0., 0., 0., 0., 0., 0., 0., 0., 0., 0., 0., 0., 0., 0., 0.,\n",
              "        0., 0., 0., 0., 0., 0., 0., 0., 0., 0., 0., 0., 0., 0., 0., 0., 0.,\n",
              "        0., 0., 0., 0., 0., 0., 0., 0., 0., 0., 0., 0., 0., 0., 0., 0., 0.,\n",
              "        0., 0., 0., 0., 0., 0., 0., 0., 0., 0., 0., 0., 0., 0., 0., 0., 0.,\n",
              "        0., 0., 0., 0., 0., 0., 0., 0., 0., 0., 0., 0., 0., 0., 0., 0., 0.,\n",
              "        0., 0., 0., 0., 0., 0., 0., 0., 0., 0., 0., 0., 0., 0., 0., 0., 0.,\n",
              "        0., 0., 0., 0., 0., 0., 0., 0., 0.], dtype=float32)>,\n",
              " <tf.Variable 'dense_5/kernel:0' shape=(128, 12) dtype=float32, numpy=\n",
              " array([[ 0.1515358 ,  0.02196322,  0.18145917, ...,  0.00468174,\n",
              "          0.01854508,  0.20404328],\n",
              "        [ 0.12066473, -0.03706983,  0.08336912, ..., -0.20404589,\n",
              "         -0.08400396, -0.02619137],\n",
              "        [ 0.18611674, -0.15324534,  0.16144691, ..., -0.08594672,\n",
              "         -0.09647494, -0.15558602],\n",
              "        ...,\n",
              "        [ 0.08974303,  0.06459714, -0.15001269, ...,  0.18131448,\n",
              "         -0.01960547, -0.1911663 ],\n",
              "        [ 0.18125056,  0.12375371,  0.07133092, ...,  0.02285066,\n",
              "          0.19617231,  0.05827369],\n",
              "        [-0.02600496, -0.01346102, -0.0350907 , ...,  0.06469058,\n",
              "          0.04381506, -0.15617056]], dtype=float32)>,\n",
              " <tf.Variable 'dense_5/bias:0' shape=(12,) dtype=float32, numpy=array([0., 0., 0., 0., 0., 0., 0., 0., 0., 0., 0., 0.], dtype=float32)>]"
            ]
          },
          "metadata": {},
          "execution_count": 6
        }
      ],
      "source": [
        "model.build(input_shape=(None, 4))\n",
        "model.weights"
      ]
    },
    {
      "cell_type": "markdown",
      "metadata": {
        "id": "QfFw6oDxClW1"
      },
      "source": [
        "**The summary method**"
      ]
    },
    {
      "cell_type": "code",
      "execution_count": 7,
      "metadata": {
        "colab": {
          "base_uri": "https://localhost:8080/"
        },
        "id": "cvYxFP83ClW1",
        "outputId": "ba6d7930-a991-4469-b777-395e8b9bef0d"
      },
      "outputs": [
        {
          "output_type": "stream",
          "name": "stdout",
          "text": [
            "Model: \"sequential_2\"\n",
            "_________________________________________________________________\n",
            " Layer (type)                Output Shape              Param #   \n",
            "=================================================================\n",
            " dense_4 (Dense)             (None, 128)               640       \n",
            "                                                                 \n",
            " dense_5 (Dense)             (None, 12)                1548      \n",
            "                                                                 \n",
            "=================================================================\n",
            "Total params: 2,188\n",
            "Trainable params: 2,188\n",
            "Non-trainable params: 0\n",
            "_________________________________________________________________\n"
          ]
        }
      ],
      "source": [
        "model.summary()"
      ]
    },
    {
      "cell_type": "markdown",
      "metadata": {
        "id": "RbQrCgwkClW1"
      },
      "source": [
        "**Naming models and layers with the `name` argument**"
      ]
    },
    {
      "cell_type": "code",
      "execution_count": 8,
      "metadata": {
        "colab": {
          "base_uri": "https://localhost:8080/"
        },
        "id": "Nnq_NbEDClW1",
        "outputId": "d7d39774-c887-4397-bd69-9e5fd4d0878f"
      },
      "outputs": [
        {
          "output_type": "stream",
          "name": "stdout",
          "text": [
            "Model: \"my_example_model\"\n",
            "_________________________________________________________________\n",
            " Layer (type)                Output Shape              Param #   \n",
            "=================================================================\n",
            " my_first_layer (Dense)      (None, 128)               640       \n",
            "                                                                 \n",
            " my_last_layer (Dense)       (None, 12)                1548      \n",
            "                                                                 \n",
            "=================================================================\n",
            "Total params: 2,188\n",
            "Trainable params: 2,188\n",
            "Non-trainable params: 0\n",
            "_________________________________________________________________\n"
          ]
        }
      ],
      "source": [
        "model = keras.Sequential(name=\"my_example_model\")\n",
        "model.add(layers.Dense(128, activation=\"relu\", name=\"my_first_layer\"))\n",
        "model.add(layers.Dense(12, activation=\"softmax\", name=\"my_last_layer\"))\n",
        "model.build((None, 4))\n",
        "model.summary()"
      ]
    },
    {
      "cell_type": "markdown",
      "metadata": {
        "id": "L-XdRtY9ClW1"
      },
      "source": [
        "**Specifying the input shape of your model in advance**"
      ]
    },
    {
      "cell_type": "code",
      "execution_count": 9,
      "metadata": {
        "id": "HTAd_8eRClW2"
      },
      "outputs": [],
      "source": [
        "model = keras.Sequential()\n",
        "model.add(keras.Input(shape=(3,)))\n",
        "model.add(layers.Dense(128, activation=\"relu\"))"
      ]
    },
    {
      "cell_type": "code",
      "execution_count": 10,
      "metadata": {
        "colab": {
          "base_uri": "https://localhost:8080/"
        },
        "id": "4D7VKpdyClW2",
        "outputId": "ee96f617-baf3-413f-cc37-8e51ba3fd22c"
      },
      "outputs": [
        {
          "output_type": "stream",
          "name": "stdout",
          "text": [
            "Model: \"sequential_3\"\n",
            "_________________________________________________________________\n",
            " Layer (type)                Output Shape              Param #   \n",
            "=================================================================\n",
            " dense_6 (Dense)             (None, 128)               512       \n",
            "                                                                 \n",
            "=================================================================\n",
            "Total params: 512\n",
            "Trainable params: 512\n",
            "Non-trainable params: 0\n",
            "_________________________________________________________________\n"
          ]
        }
      ],
      "source": [
        "model.summary()"
      ]
    },
    {
      "cell_type": "code",
      "execution_count": 11,
      "metadata": {
        "colab": {
          "base_uri": "https://localhost:8080/"
        },
        "id": "9nt6kuxWClW2",
        "outputId": "10229cb7-deed-40cf-d56c-b2919195bbf1"
      },
      "outputs": [
        {
          "output_type": "stream",
          "name": "stdout",
          "text": [
            "Model: \"sequential_3\"\n",
            "_________________________________________________________________\n",
            " Layer (type)                Output Shape              Param #   \n",
            "=================================================================\n",
            " dense_6 (Dense)             (None, 128)               512       \n",
            "                                                                 \n",
            " dense_7 (Dense)             (None, 12)                1548      \n",
            "                                                                 \n",
            "=================================================================\n",
            "Total params: 2,060\n",
            "Trainable params: 2,060\n",
            "Non-trainable params: 0\n",
            "_________________________________________________________________\n"
          ]
        }
      ],
      "source": [
        "model.add(layers.Dense(12, activation=\"softmax\"))\n",
        "model.summary()"
      ]
    },
    {
      "cell_type": "markdown",
      "metadata": {
        "id": "554390aRClW2"
      },
      "source": [
        "### The Functional API"
      ]
    },
    {
      "cell_type": "markdown",
      "metadata": {
        "id": "QLj6D7BaClW2"
      },
      "source": [
        "#### A simple example"
      ]
    },
    {
      "cell_type": "markdown",
      "metadata": {
        "id": "uk4SYP0BClW2"
      },
      "source": [
        "**A simple Functional model with two `Dense` layers**"
      ]
    },
    {
      "cell_type": "code",
      "execution_count": 19,
      "metadata": {
        "id": "bCIq3uTsClW2"
      },
      "outputs": [],
      "source": [
        "inputs = keras.Input(shape=(4,), name=\"my_input\")\n",
        "features = layers.Dense(128, activation=\"relu\")(inputs)\n",
        "outputs = layers.Dense(12, activation=\"softmax\")(features)\n",
        "model = keras.Model(inputs=inputs, outputs=outputs)"
      ]
    },
    {
      "cell_type": "code",
      "execution_count": 20,
      "metadata": {
        "id": "3aTE7S7MClW3"
      },
      "outputs": [],
      "source": [
        "inputs = keras.Input(shape=(4,), name=\"my_input\")"
      ]
    },
    {
      "cell_type": "code",
      "execution_count": 21,
      "metadata": {
        "colab": {
          "base_uri": "https://localhost:8080/"
        },
        "id": "v0FI7l1gClW3",
        "outputId": "54dd3153-0227-4edd-a681-0d00285c732b"
      },
      "outputs": [
        {
          "output_type": "execute_result",
          "data": {
            "text/plain": [
              "TensorShape([None, 4])"
            ]
          },
          "metadata": {},
          "execution_count": 21
        }
      ],
      "source": [
        "inputs.shape"
      ]
    },
    {
      "cell_type": "code",
      "execution_count": 22,
      "metadata": {
        "colab": {
          "base_uri": "https://localhost:8080/"
        },
        "id": "ecpjevaCClW3",
        "outputId": "1767ceec-166c-4e70-b0c5-1252cdf95360"
      },
      "outputs": [
        {
          "output_type": "execute_result",
          "data": {
            "text/plain": [
              "tf.float32"
            ]
          },
          "metadata": {},
          "execution_count": 22
        }
      ],
      "source": [
        "inputs.dtype"
      ]
    },
    {
      "cell_type": "code",
      "execution_count": 23,
      "metadata": {
        "id": "pPFcyFlWClW3"
      },
      "outputs": [],
      "source": [
        "features = layers.Dense(128, activation=\"relu\")(inputs)"
      ]
    },
    {
      "cell_type": "code",
      "execution_count": 24,
      "metadata": {
        "colab": {
          "base_uri": "https://localhost:8080/"
        },
        "id": "CUYix1abClW3",
        "outputId": "9f8e7a20-073a-43b5-c3d3-8d805b307336"
      },
      "outputs": [
        {
          "output_type": "execute_result",
          "data": {
            "text/plain": [
              "TensorShape([None, 128])"
            ]
          },
          "metadata": {},
          "execution_count": 24
        }
      ],
      "source": [
        "features.shape"
      ]
    },
    {
      "cell_type": "code",
      "execution_count": 25,
      "metadata": {
        "id": "NXTingabClW3"
      },
      "outputs": [],
      "source": [
        "outputs = layers.Dense(12, activation=\"softmax\")(features)\n",
        "model = keras.Model(inputs=inputs, outputs=outputs)"
      ]
    },
    {
      "cell_type": "code",
      "execution_count": 26,
      "metadata": {
        "colab": {
          "base_uri": "https://localhost:8080/"
        },
        "id": "5t7cYMFLClW3",
        "outputId": "78bbec8a-f6fe-4b4c-dfe8-30d2736d6ed4"
      },
      "outputs": [
        {
          "output_type": "stream",
          "name": "stdout",
          "text": [
            "Model: \"model_2\"\n",
            "_________________________________________________________________\n",
            " Layer (type)                Output Shape              Param #   \n",
            "=================================================================\n",
            " my_input (InputLayer)       [(None, 4)]               0         \n",
            "                                                                 \n",
            " dense_15 (Dense)            (None, 128)               640       \n",
            "                                                                 \n",
            " dense_16 (Dense)            (None, 12)                1548      \n",
            "                                                                 \n",
            "=================================================================\n",
            "Total params: 2,188\n",
            "Trainable params: 2,188\n",
            "Non-trainable params: 0\n",
            "_________________________________________________________________\n"
          ]
        }
      ],
      "source": [
        "model.summary()"
      ]
    },
    {
      "cell_type": "markdown",
      "metadata": {
        "id": "aWw1neOYClW3"
      },
      "source": [
        "#### Multi-input, multi-output models"
      ]
    },
    {
      "cell_type": "markdown",
      "metadata": {
        "id": "Jmc1-aVIClW3"
      },
      "source": [
        "**A multi-input, multi-output Functional model**"
      ]
    },
    {
      "cell_type": "code",
      "execution_count": 27,
      "metadata": {
        "colab": {
          "base_uri": "https://localhost:8080/",
          "height": 803
        },
        "id": "L3mJH5oRClW4",
        "outputId": "02ddfdf4-443c-4fca-de0b-264bd4e1efe2"
      },
      "outputs": [
        {
          "output_type": "stream",
          "name": "stdout",
          "text": [
            "Model: \"model_3\"\n",
            "__________________________________________________________________________________________________\n",
            " Layer (type)                   Output Shape         Param #     Connected to                     \n",
            "==================================================================================================\n",
            " title (InputLayer)             [(None, 10000)]      0           []                               \n",
            "                                                                                                  \n",
            " text_body (InputLayer)         [(None, 10000)]      0           []                               \n",
            "                                                                                                  \n",
            " tags (InputLayer)              [(None, 100)]        0           []                               \n",
            "                                                                                                  \n",
            " concatenate (Concatenate)      (None, 20100)        0           ['title[0][0]',                  \n",
            "                                                                  'text_body[0][0]',              \n",
            "                                                                  'tags[0][0]']                   \n",
            "                                                                                                  \n",
            " dense_17 (Dense)               (None, 64)           1286464     ['concatenate[0][0]']            \n",
            "                                                                                                  \n",
            " priority (Dense)               (None, 1)            65          ['dense_17[0][0]']               \n",
            "                                                                                                  \n",
            " department (Dense)             (None, 4)            260         ['dense_17[0][0]']               \n",
            "                                                                                                  \n",
            "==================================================================================================\n",
            "Total params: 1,286,789\n",
            "Trainable params: 1,286,789\n",
            "Non-trainable params: 0\n",
            "__________________________________________________________________________________________________\n"
          ]
        },
        {
          "output_type": "execute_result",
          "data": {
            "image/png": "[encoded data removed]",
            "text/plain": [
              "<IPython.core.display.Image object>"
            ]
          },
          "metadata": {},
          "execution_count": 27
        }
      ],
      "source": [
        "vocabulary_size = 10000\n",
        "num_tags = 100\n",
        "num_departments = 4\n",
        "\n",
        "title =   keras.Input(shape=(vocabulary_size,), name=\"title\")\n",
        "text_body = keras.Input(shape=(vocabulary_size,), name=\"text_body\")\n",
        "tags =   keras.Input(shape=(num_tags,), name=\"tags\")\n",
        "\n",
        "features = layers.Concatenate()(\n",
        "    [title, \n",
        "     text_body, \n",
        "     tags])\n",
        "features = layers.Dense(\n",
        "    64, activation=\"relu\"\n",
        "    )(features)\n",
        "\n",
        "priority = layers.Dense(\n",
        "    1, \n",
        "    activation=\"sigmoid\", \n",
        "    name=\"priority\"\n",
        "    )(features)\n",
        "department = layers.Dense(\n",
        "    num_departments, \n",
        "    activation=\"softmax\", \n",
        "    name=\"department\"\n",
        "    )(features)\n",
        "\n",
        "model = keras.Model(\n",
        "    inputs=[title, text_body, tags], \n",
        "    outputs=[priority, department]\n",
        "    )\n",
        "\n",
        "model.summary()\n",
        "keras.utils.plot_model(model)"
      ]
    },
    {
      "cell_type": "markdown",
      "metadata": {
        "id": "Y8VEXbqgClW4"
      },
      "source": [
        "#### Training a multi-input, multi-output model"
      ]
    },
    {
      "cell_type": "markdown",
      "metadata": {
        "id": "XHvADNKCClW4"
      },
      "source": [
        "**Training a model by providing lists of input & target arrays**"
      ]
    },
    {
      "cell_type": "code",
      "execution_count": 28,
      "metadata": {
        "colab": {
          "base_uri": "https://localhost:8080/"
        },
        "id": "gKIsA0jzClW4",
        "outputId": "e2d5ade5-4230-44d8-a4dd-0ddcd6c08599"
      },
      "outputs": [
        {
          "output_type": "stream",
          "name": "stdout",
          "text": [
            "40/40 [==============================] - 3s 39ms/step - loss: 37.1624 - priority_loss: 0.3151 - department_loss: 36.8473 - priority_mean_absolute_error: 0.4869 - department_accuracy: 0.2586\n",
            "40/40 [==============================] - 1s 9ms/step - loss: 53.2880 - priority_loss: 0.3222 - department_loss: 52.9658 - priority_mean_absolute_error: 0.4927 - department_accuracy: 0.2406\n",
            "40/40 [==============================] - 0s 9ms/step\n"
          ]
        }
      ],
      "source": [
        "import numpy as np\n",
        "\n",
        "num_samples = 1280\n",
        "\n",
        "title_data=    np.random.randint(0, 2, size=(num_samples, vocabulary_size))\n",
        "text_body_data=  np.random.randint(0, 2, size=(num_samples, vocabulary_size))\n",
        "tags_data=    np.random.randint(0, 2, size=(num_samples, num_tags))\n",
        "\n",
        "priority_data =  np.random.random(size=(num_samples, 1))\n",
        "department_data = np.random.randint(0, 2, size=(num_samples, num_departments))\n",
        "\n",
        "model.compile(optimizer=\"rmsprop\",\n",
        "       loss=[\"mean_squared_error\", \"categorical_crossentropy\"],\n",
        "       metrics=[[\"mean_absolute_error\"], [\"accuracy\"]])\n",
        "\n",
        "model.fit([title_data, text_body_data, tags_data],\n",
        "     [priority_data, department_data],\n",
        "     epochs=1)\n",
        "model.evaluate([title_data, text_body_data, tags_data],\n",
        "               [priority_data, department_data])\n",
        "priority_preds, department_preds = model.predict([title_data, text_body_data, tags_data])"
      ]
    },
    {
      "cell_type": "code",
      "source": [
        "import numpy as np\n",
        "\n",
        "num_samples = 1280\n",
        "\n",
        "title_data=    np.random.randint(0, 2, size=(num_samples, vocabulary_size))\n",
        "text_body_data=  np.random.randint(0, 2, size=(num_samples, vocabulary_size))\n",
        "tags_data=    np.random.randint(0, 2, size=(num_samples, num_tags))\n",
        "\n",
        "priority_data =  np.random.random(size=(num_samples, 1))\n",
        "department_data = np.random.randint(0, 2, size=(num_samples, num_departments))\n",
        "\n",
        "model.compile(\n",
        "    #optimizer=\"rmsprop\",\n",
        "    loss=[\"mean_squared_error\", \"categorical_crossentropy\"],\n",
        "    #metrics=[[\"mean_absolute_error\"], [\"accuracy\"]]\n",
        "    )\n",
        "\n"
      ],
      "metadata": {
        "id": "yUvomkiULLC5"
      },
      "execution_count": 29,
      "outputs": []
    },
    {
      "cell_type": "code",
      "source": [
        "title_data.shape  #(1280,10000)\n",
        "priority_data.shape"
      ],
      "metadata": {
        "colab": {
          "base_uri": "https://localhost:8080/"
        },
        "id": "ngVoHZpjMBMK",
        "outputId": "f34bb7e3-e1f8-4a2c-8a3b-53f70bfb8bf6"
      },
      "execution_count": 30,
      "outputs": [
        {
          "output_type": "execute_result",
          "data": {
            "text/plain": [
              "(1280, 1)"
            ]
          },
          "metadata": {},
          "execution_count": 30
        }
      ]
    },
    {
      "cell_type": "code",
      "source": [
        "model.fit([title_data, text_body_data, tags_data],\n",
        "     [priority_data, department_data],\n",
        "     epochs=3)\n",
        "keras.utils.plot_model(model)"
      ],
      "metadata": {
        "colab": {
          "base_uri": "https://localhost:8080/",
          "height": 473
        },
        "id": "rwjiQF-ZMWjR",
        "outputId": "d1451693-86bd-4aef-f517-2e5f0715878c"
      },
      "execution_count": 34,
      "outputs": [
        {
          "output_type": "stream",
          "name": "stdout",
          "text": [
            "Epoch 1/3\n",
            "40/40 [==============================] - 1s 24ms/step - loss: 61.1162 - priority_loss: 0.3468 - department_loss: 60.7694 - priority_mean_absolute_error: 0.5119 - department_accuracy: 0.2742\n",
            "Epoch 2/3\n",
            "40/40 [==============================] - 1s 23ms/step - loss: 74.7257 - priority_loss: 0.3468 - department_loss: 74.3790 - priority_mean_absolute_error: 0.5119 - department_accuracy: 0.2430\n",
            "Epoch 3/3\n",
            "40/40 [==============================] - 1s 21ms/step - loss: 85.1954 - priority_loss: 0.3468 - department_loss: 84.8486 - priority_mean_absolute_error: 0.5119 - department_accuracy: 0.2273\n"
          ]
        },
        {
          "output_type": "execute_result",
          "data": {
            "image/png": "[encoded data removed]",
            "text/plain": [
              "<IPython.core.display.Image object>"
            ]
          },
          "metadata": {},
          "execution_count": 34
        }
      ]
    },
    {
      "cell_type": "markdown",
      "metadata": {
        "id": "kHwJU3CfClW4"
      },
      "source": [
        "**Training a model by providing dicts of input & target arrays**"
      ]
    },
    {
      "cell_type": "code",
      "execution_count": 35,
      "metadata": {
        "id": "ECwycIVyClW4",
        "colab": {
          "base_uri": "https://localhost:8080/"
        },
        "outputId": "9a610995-61ad-4bdd-b24d-5033ba568580"
      },
      "outputs": [
        {
          "output_type": "stream",
          "name": "stdout",
          "text": [
            "40/40 [==============================] - 2s 21ms/step - loss: 121.9811 - priority_loss: 0.3468 - department_loss: 121.6343 - priority_mean_absolute_error: 0.5119 - department_accuracy: 0.2484\n",
            "40/40 [==============================] - 1s 9ms/step - loss: 21.5870 - priority_loss: 0.3468 - department_loss: 21.2402 - priority_mean_absolute_error: 0.5119 - department_accuracy: 0.2617\n",
            "40/40 [==============================] - 0s 8ms/step\n"
          ]
        }
      ],
      "source": [
        "model.compile(optimizer=\"rmsprop\",\n",
        "              loss={\"priority\": \"mean_squared_error\", \"department\": \"categorical_crossentropy\"},\n",
        "              metrics={\"priority\": [\"mean_absolute_error\"], \"department\": [\"accuracy\"]})\n",
        "model.fit({\"title\": title_data, \"text_body\": text_body_data, \"tags\": tags_data},\n",
        "          {\"priority\": priority_data, \"department\": department_data},\n",
        "          epochs=1)\n",
        "model.evaluate({\"title\": title_data, \"text_body\": text_body_data, \"tags\": tags_data},\n",
        "               {\"priority\": priority_data, \"department\": department_data})\n",
        "priority_preds, department_preds = model.predict(\n",
        "    {\"title\": title_data, \"text_body\": text_body_data, \"tags\": tags_data})"
      ]
    },
    {
      "cell_type": "markdown",
      "metadata": {
        "id": "Scrf9uhhClW4"
      },
      "source": [
        "#### The power of the Functional API: Access to layer connectivity"
      ]
    },
    {
      "cell_type": "code",
      "execution_count": 36,
      "metadata": {
        "id": "ar-WQ13dClW4",
        "colab": {
          "base_uri": "https://localhost:8080/",
          "height": 369
        },
        "outputId": "a2e5fce1-d5ef-44c3-92c2-e817a47c765a"
      },
      "outputs": [
        {
          "output_type": "execute_result",
          "data": {
            "image/png": "[encoded data removed]",
            "text/plain": [
              "<IPython.core.display.Image object>"
            ]
          },
          "metadata": {},
          "execution_count": 36
        }
      ],
      "source": [
        "keras.utils.plot_model(model, \"ticket_classifier.png\")"
      ]
    },
    {
      "cell_type": "code",
      "execution_count": 37,
      "metadata": {
        "id": "ZnxRJY7KClW4",
        "colab": {
          "base_uri": "https://localhost:8080/",
          "height": 422
        },
        "outputId": "33e9ab27-bf30-4b47-cb9a-e14491c958f3"
      },
      "outputs": [
        {
          "output_type": "execute_result",
          "data": {
            "image/png": "[encoded data removed]",
            "text/plain": [
              "<IPython.core.display.Image object>"
            ]
          },
          "metadata": {},
          "execution_count": 37
        }
      ],
      "source": [
        "keras.utils.plot_model(model, \"ticket_classifier_with_shape_info.png\", show_shapes=True)"
      ]
    },
    {
      "cell_type": "markdown",
      "metadata": {
        "id": "_XxLHQV2ClW5"
      },
      "source": [
        "**Retrieving the inputs or outputs of a layer in a Functional model**"
      ]
    },
    {
      "cell_type": "code",
      "execution_count": 38,
      "metadata": {
        "id": "ERWkNAJ1ClW5",
        "colab": {
          "base_uri": "https://localhost:8080/"
        },
        "outputId": "132d17a4-5e62-4e03-fe50-b2581216799b"
      },
      "outputs": [
        {
          "output_type": "execute_result",
          "data": {
            "text/plain": [
              "[<keras.engine.input_layer.InputLayer at 0x7fc6ce98e950>,\n",
              " <keras.engine.input_layer.InputLayer at 0x7fc6ce98eb90>,\n",
              " <keras.engine.input_layer.InputLayer at 0x7fc65f3c05d0>,\n",
              " <keras.layers.merging.concatenate.Concatenate at 0x7fc65f288910>,\n",
              " <keras.layers.core.dense.Dense at 0x7fc65f2eddd0>,\n",
              " <keras.layers.core.dense.Dense at 0x7fc65f2ed6d0>,\n",
              " <keras.layers.core.dense.Dense at 0x7fc65f288b10>]"
            ]
          },
          "metadata": {},
          "execution_count": 38
        }
      ],
      "source": [
        "model.layers"
      ]
    },
    {
      "cell_type": "code",
      "execution_count": 40,
      "metadata": {
        "id": "5TFWADOsClW5",
        "colab": {
          "base_uri": "https://localhost:8080/"
        },
        "outputId": "28520aae-9032-4ef5-8344-51d4e7e977c7"
      },
      "outputs": [
        {
          "output_type": "execute_result",
          "data": {
            "text/plain": [
              "<KerasTensor: shape=(None, 20100) dtype=float32 (created by layer 'concatenate')>"
            ]
          },
          "metadata": {},
          "execution_count": 40
        }
      ],
      "source": [
        "model.layers[4].input"
      ]
    },
    {
      "cell_type": "code",
      "execution_count": 41,
      "metadata": {
        "id": "_s7fLXoeClW5",
        "colab": {
          "base_uri": "https://localhost:8080/"
        },
        "outputId": "7cdcb732-3748-4737-cfae-1de7a906583c"
      },
      "outputs": [
        {
          "output_type": "execute_result",
          "data": {
            "text/plain": [
              "<KerasTensor: shape=(None, 100) dtype=float32 (created by layer 'tags')>"
            ]
          },
          "metadata": {},
          "execution_count": 41
        }
      ],
      "source": [
        "model.layers[2].output"
      ]
    },
    {
      "cell_type": "markdown",
      "metadata": {
        "id": "IT1bjSQiClW5"
      },
      "source": [
        "**Creating a new model by reusing intermediate layer outputs**"
      ]
    },
    {
      "cell_type": "code",
      "execution_count": 42,
      "metadata": {
        "id": "HG94bRUsClW5"
      },
      "outputs": [],
      "source": [
        "features = model.layers[5].output\n",
        "difficulty = layers.Dense(4, activation=\"softmax\", name=\"difficulty\")(features)\n",
        "\n",
        "new_model = keras.Model(\n",
        "    inputs=[title, text_body, tags],\n",
        "    outputs=[priority, department, difficulty])"
      ]
    },
    {
      "cell_type": "code",
      "execution_count": 43,
      "metadata": {
        "id": "mZ2SXiXaClW5",
        "colab": {
          "base_uri": "https://localhost:8080/",
          "height": 533
        },
        "outputId": "507d2e4f-50fc-4a71-8995-83b53dc82b1b"
      },
      "outputs": [
        {
          "output_type": "execute_result",
          "data": {
            "image/png": "[encoded data removed]",
            "text/plain": [
              "<IPython.core.display.Image object>"
            ]
          },
          "metadata": {},
          "execution_count": 43
        }
      ],
      "source": [
        "keras.utils.plot_model(new_model, \"updated_ticket_classifier.png\", show_shapes=True)"
      ]
    },
    {
      "cell_type": "markdown",
      "metadata": {
        "id": "zlkaZw2TClW5"
      },
      "source": [
        "### Subclassing the Model class"
      ]
    },
    {
      "cell_type": "markdown",
      "metadata": {
        "id": "lQNGujGeClW5"
      },
      "source": [
        "#### Rewriting our previous example as a subclassed model"
      ]
    },
    {
      "cell_type": "markdown",
      "metadata": {
        "id": "iTzr0qVCClW5"
      },
      "source": [
        "**A simple subclassed model**"
      ]
    },
    {
      "cell_type": "code",
      "source": [
        "qqq= keras.Model()\n"
      ],
      "metadata": {
        "id": "BfpOEDW4QhFw"
      },
      "execution_count": 44,
      "outputs": []
    },
    {
      "cell_type": "code",
      "execution_count": 45,
      "metadata": {
        "id": "dKNDVQewClW6"
      },
      "outputs": [],
      "source": [
        "class CustomerTicketModel(keras.Model):\n",
        "\n",
        "    def __init__(self, num_departments):\n",
        "        super().__init__()\n",
        "        self.concat_layer =  layers.Concatenate()\n",
        "        self.mixing_layer =  layers.Dense(64, activation=\"relu\")\n",
        "        self.priority_scorer=  layers.Dense(1, activation=\"sigmoid\")\n",
        "        self.department_classifier = layers.Dense(\n",
        "            num_departments, activation=\"softmax\")\n",
        "\n",
        "    def call(self, inputs):\n",
        "        title = inputs[\"title\"]\n",
        "        text_body = inputs[\"text_body\"]\n",
        "        tags = inputs[\"tags\"]\n",
        "\n",
        "        features = self.concat_layer([title, text_body, tags])\n",
        "        features = self.mixing_layer(features)\n",
        "        priority = self.priority_scorer(features)\n",
        "        department = self.department_classifier(features)\n",
        "        return priority, department"
      ]
    },
    {
      "cell_type": "code",
      "execution_count": 46,
      "metadata": {
        "id": "uB0IfjfQClW6"
      },
      "outputs": [],
      "source": [
        "model = CustomerTicketModel(num_departments=4)\n",
        "\n",
        "priority, department = model(\n",
        "    {\"title\": title_data, \"text_body\": text_body_data, \"tags\": tags_data})"
      ]
    },
    {
      "cell_type": "code",
      "execution_count": 47,
      "metadata": {
        "id": "Glt_VtivClW6",
        "colab": {
          "base_uri": "https://localhost:8080/"
        },
        "outputId": "2a85a703-c4a8-4d5f-c2e2-ca1afb8c47fe"
      },
      "outputs": [
        {
          "output_type": "stream",
          "name": "stdout",
          "text": [
            "40/40 [==============================] - 2s 22ms/step - loss: 30.3970 - output_1_loss: 0.3410 - output_2_loss: 30.0560 - output_1_mean_absolute_error: 0.5066 - output_2_accuracy: 0.2055\n",
            "40/40 [==============================] - 1s 9ms/step - loss: 22.2661 - output_1_loss: 0.3468 - output_2_loss: 21.9193 - output_1_mean_absolute_error: 0.5119 - output_2_accuracy: 0.0617\n",
            "40/40 [==============================] - 0s 9ms/step\n"
          ]
        }
      ],
      "source": [
        "model.compile(optimizer=\"rmsprop\",\n",
        "              loss=[\"mean_squared_error\", \"categorical_crossentropy\"],\n",
        "              metrics=[[\"mean_absolute_error\"], [\"accuracy\"]])\n",
        "model.fit({\"title\": title_data,\n",
        "           \"text_body\": text_body_data,\n",
        "           \"tags\": tags_data},\n",
        "          [priority_data, department_data],\n",
        "          epochs=1)\n",
        "model.evaluate({\"title\": title_data,\n",
        "                \"text_body\": text_body_data,\n",
        "                \"tags\": tags_data},\n",
        "               [priority_data, department_data])\n",
        "priority_preds, department_preds = model.predict({\"title\": title_data,\n",
        "                                                  \"text_body\": text_body_data,\n",
        "                                                  \"tags\": tags_data})"
      ]
    },
    {
      "cell_type": "markdown",
      "metadata": {
        "id": "dRJ0BWWaClW6"
      },
      "source": [
        "#### Beware: What subclassed models don't support"
      ]
    },
    {
      "cell_type": "markdown",
      "metadata": {
        "id": "I78oVaJRClW6"
      },
      "source": [
        "### Mixing and matching different components"
      ]
    },
    {
      "cell_type": "markdown",
      "metadata": {
        "id": "-0Ku1MjRClW6"
      },
      "source": [
        "**Creating a Functional model that includes a subclassed model**"
      ]
    },
    {
      "cell_type": "code",
      "execution_count": 50,
      "metadata": {
        "id": "Ae8nXYEpClW6",
        "colab": {
          "base_uri": "https://localhost:8080/",
          "height": 532
        },
        "outputId": "d37fc37e-9b5d-489a-d862-a36191b866d2"
      },
      "outputs": [
        {
          "output_type": "stream",
          "name": "stdout",
          "text": [
            "Model: \"model_8\"\n",
            "_________________________________________________________________\n",
            " Layer (type)                Output Shape              Param #   \n",
            "=================================================================\n",
            " input_4 (InputLayer)        [(None, 4)]               0         \n",
            "                                                                 \n",
            " dense_25 (Dense)            (None, 128)               640       \n",
            "                                                                 \n",
            " classifier_2 (Classifier)   (None, 12)                1548      \n",
            "                                                                 \n",
            "=================================================================\n",
            "Total params: 2,188\n",
            "Trainable params: 2,188\n",
            "Non-trainable params: 0\n",
            "_________________________________________________________________\n"
          ]
        },
        {
          "output_type": "execute_result",
          "data": {
            "image/png": "[encoded data removed]",
            "text/plain": [
              "<IPython.core.display.Image object>"
            ]
          },
          "metadata": {},
          "execution_count": 50
        }
      ],
      "source": [
        "class Classifier(keras.Model):\n",
        "\n",
        "    def __init__(self, num_classes=3):\n",
        "        super().__init__()\n",
        "        if num_classes == 3:\n",
        "            num_units = 1\n",
        "            activation = \"sigmoid\"\n",
        "        else:\n",
        "            num_units = num_classes\n",
        "            activation = \"softmax\"\n",
        "        self.dense = layers.Dense(num_units, activation=activation)\n",
        "\n",
        "    def call(self, inputs):\n",
        "        return self.dense(inputs)\n",
        "\n",
        "inputs = keras.Input(shape=(4,))\n",
        "features = layers.Dense(128, activation=\"relu\")(inputs)\n",
        "outputs = Classifier(num_classes=12)(features)\n",
        "model = keras.Model(inputs=inputs, outputs=outputs)\n",
        "model.summary()\n",
        "keras.utils.plot_model(model)"
      ]
    },
    {
      "cell_type": "markdown",
      "metadata": {
        "id": "6f-afjWFClW6"
      },
      "source": [
        "**Creating a subclassed model that includes a Functional model**"
      ]
    },
    {
      "cell_type": "code",
      "execution_count": 51,
      "metadata": {
        "id": "Q8n4kErCClW7"
      },
      "outputs": [],
      "source": [
        "inputs = keras.Input(shape=(64,))\n",
        "outputs = layers.Dense(1, activation=\"sigmoid\")(inputs)\n",
        "binary_classifier = keras.Model(inputs=inputs, outputs=outputs)\n",
        "\n",
        "class MyModel(keras.Model):\n",
        "\n",
        "    def __init__(self, num_classes=2):\n",
        "        super().__init__()\n",
        "        self.dense = layers.Dense(64, activation=\"relu\")\n",
        "        self.classifier = binary_classifier\n",
        "\n",
        "    def call(self, inputs):\n",
        "        features = self.dense(inputs)\n",
        "        return self.classifier(features)\n",
        "\n",
        "model = MyModel()"
      ]
    },
    {
      "cell_type": "markdown",
      "metadata": {
        "id": "NJHOfSZeClW7"
      },
      "source": [
        "### Remember: Use the right tool for the job"
      ]
    },
    {
      "cell_type": "markdown",
      "metadata": {
        "id": "cc0zCN4eClW7"
      },
      "source": [
        "## Using built-in training and evaluation loops"
      ]
    },
    {
      "cell_type": "markdown",
      "metadata": {
        "id": "TEgBu5fHClW7"
      },
      "source": [
        "**The standard workflow: `compile()`, `fit()`, `evaluate()`, `predict()`**"
      ]
    },
    {
      "cell_type": "code",
      "execution_count": null,
      "metadata": {
        "id": "h-qU_tozClW7"
      },
      "outputs": [],
      "source": [
        "from tensorflow.keras.datasets import mnist\n",
        "\n",
        "def get_mnist_model():\n",
        "    inputs = keras.Input(shape=(28 * 28,))\n",
        "    features = layers.Dense(512, activation=\"relu\")(inputs)\n",
        "    features = layers.Dropout(0.5)(features)\n",
        "    outputs = layers.Dense(10, activation=\"softmax\")(features)\n",
        "    model = keras.Model(inputs, outputs)\n",
        "    return model\n",
        "\n",
        "(images, labels), (test_images, test_labels) = mnist.load_data()\n",
        "images = images.reshape((60000, 28 * 28)).astype(\"float32\") / 255\n",
        "test_images = test_images.reshape((10000, 28 * 28)).astype(\"float32\") / 255\n",
        "train_images, val_images = images[10000:], images[:10000]\n",
        "train_labels, val_labels = labels[10000:], labels[:10000]\n",
        "\n",
        "model = get_mnist_model()\n",
        "model.compile(optimizer=\"rmsprop\",\n",
        "              loss=\"sparse_categorical_crossentropy\",\n",
        "              metrics=[\"accuracy\"])\n",
        "model.fit(train_images, train_labels,\n",
        "          epochs=3,\n",
        "          validation_data=(val_images, val_labels))\n",
        "test_metrics = model.evaluate(test_images, test_labels)\n",
        "predictions = model.predict(test_images)"
      ]
    },
    {
      "cell_type": "markdown",
      "metadata": {
        "id": "UnOQw-VaClW7"
      },
      "source": [
        "### Writing your own metrics"
      ]
    },
    {
      "cell_type": "markdown",
      "metadata": {
        "id": "WltesyKjClW7"
      },
      "source": [
        "**Implementing a custom metric by subclassing the `Metric` class**"
      ]
    },
    {
      "cell_type": "code",
      "execution_count": null,
      "metadata": {
        "id": "o5AHLqYpClW7"
      },
      "outputs": [],
      "source": [
        "import tensorflow as tf\n",
        "\n",
        "class RootMeanSquaredError(keras.metrics.Metric):     #開根號 <- 平均 <- 平方\n",
        "\n",
        "    def __init__(self, name=\"rmse\", **kwargs):\n",
        "        super().__init__(name=name, **kwargs)\n",
        "        self.mse_sum = self.add_weight(name=\"mse_sum\", initializer=\"zeros\")\n",
        "        self.total_samples = self.add_weight(\n",
        "            name=\"total_samples\", initializer=\"zeros\", dtype=\"int32\")\n",
        "\n",
        "    def update_state(self, y_true, y_pred, sample_weight=None):\n",
        "        y_true = tf.one_hot(y_true, depth=tf.shape(y_pred)[1])\n",
        "        mse = tf.reduce_sum(tf.square(y_true - y_pred))\n",
        "        self.mse_sum.assign_add(mse)\n",
        "        num_samples = tf.shape(y_pred)[0]\n",
        "        self.total_samples.assign_add(num_samples)\n",
        "\n",
        "    def result(self):\n",
        "        return tf.sqrt(self.mse_sum / tf.cast(self.total_samples, tf.float32))\n",
        "\n",
        "    def reset_state(self):\n",
        "        self.mse_sum.assign(0.)\n",
        "        self.total_samples.assign(0)"
      ]
    },
    {
      "cell_type": "code",
      "execution_count": null,
      "metadata": {
        "id": "bkI3iVWmClW8"
      },
      "outputs": [],
      "source": [
        "model = get_mnist_model()\n",
        "model.compile(optimizer=\"rmsprop\",\n",
        "              loss=\"sparse_categorical_crossentropy\",\n",
        "              metrics=[\"accuracy\", RootMeanSquaredError()])\n",
        "model.fit(train_images, train_labels,\n",
        "          epochs=3,\n",
        "          validation_data=(val_images, val_labels))\n",
        "test_metrics = model.evaluate(test_images, test_labels)"
      ]
    },
    {
      "cell_type": "markdown",
      "metadata": {
        "id": "st6v1dPbClW8"
      },
      "source": [
        "### Using callbacks"
      ]
    },
    {
      "cell_type": "markdown",
      "metadata": {
        "id": "dVx2x-PHClW8"
      },
      "source": [
        "#### The EarlyStopping and ModelCheckpoint callbacks"
      ]
    },
    {
      "cell_type": "markdown",
      "metadata": {
        "id": "sNLTCCvXClW8"
      },
      "source": [
        "**Using the `callbacks` argument in the `fit()` method**"
      ]
    },
    {
      "cell_type": "code",
      "execution_count": null,
      "metadata": {
        "id": "XdoRW_74ClW8"
      },
      "outputs": [],
      "source": [
        "callbacks_list = [\n",
        "    keras.callbacks.EarlyStopping(\n",
        "        monitor=\"val_accuracy\",\n",
        "        patience=2,\n",
        "    ),\n",
        "    keras.callbacks.ModelCheckpoint(\n",
        "        filepath=\"checkpoint_path.keras\",\n",
        "        monitor=\"val_loss\",\n",
        "        save_best_only=True,\n",
        "    )\n",
        "]\n",
        "model = get_mnist_model()\n",
        "model.compile(optimizer=\"rmsprop\",\n",
        "              loss=\"sparse_categorical_crossentropy\",\n",
        "              metrics=[\"accuracy\"])\n",
        "model.fit(train_images, train_labels,\n",
        "          epochs=10,\n",
        "          callbacks=callbacks_list,\n",
        "          validation_data=(val_images, val_labels))"
      ]
    },
    {
      "cell_type": "code",
      "execution_count": null,
      "metadata": {
        "id": "8y3yb9gfClW8"
      },
      "outputs": [],
      "source": [
        "model = keras.models.load_model(\"checkpoint_path.keras\")"
      ]
    },
    {
      "cell_type": "markdown",
      "metadata": {
        "id": "gSfpMGBZClW8"
      },
      "source": [
        "### Writing your own callbacks"
      ]
    },
    {
      "cell_type": "markdown",
      "metadata": {
        "id": "qENFjEilClW8"
      },
      "source": [
        "**Creating a custom callback by subclassing the `Callback` class**"
      ]
    },
    {
      "cell_type": "code",
      "execution_count": null,
      "metadata": {
        "id": "Sgdy2UDkClW8"
      },
      "outputs": [],
      "source": [
        "from matplotlib import pyplot as plt\n",
        "\n",
        "class LossHistory(keras.callbacks.Callback):\n",
        "    def on_train_begin(self, logs):\n",
        "        self.per_batch_losses = []\n",
        "\n",
        "    def on_batch_end(self, batch, logs):\n",
        "        self.per_batch_losses.append(logs.get(\"loss\"))\n",
        "\n",
        "    def on_epoch_end(self, epoch, logs):\n",
        "        plt.clf()\n",
        "        plt.plot(range(len(self.per_batch_losses)), self.per_batch_losses,\n",
        "                 label=\"Training loss for each batch\")\n",
        "        plt.xlabel(f\"Batch (epoch {epoch})\")\n",
        "        plt.ylabel(\"Loss\")\n",
        "        plt.legend()\n",
        "        plt.savefig(f\"plot_at_epoch_{epoch}\")\n",
        "        self.per_batch_losses = []"
      ]
    },
    {
      "cell_type": "code",
      "execution_count": null,
      "metadata": {
        "id": "-OREHAQMClW8"
      },
      "outputs": [],
      "source": [
        "model = get_mnist_model()\n",
        "model.compile(optimizer=\"rmsprop\",\n",
        "              loss=\"sparse_categorical_crossentropy\",\n",
        "              metrics=[\"accuracy\"])\n",
        "model.fit(train_images, train_labels,\n",
        "          epochs=10,\n",
        "          callbacks=[LossHistory()],\n",
        "          validation_data=(val_images, val_labels))"
      ]
    },
    {
      "cell_type": "markdown",
      "metadata": {
        "id": "aLg1McdjClW8"
      },
      "source": [
        "### Monitoring and visualization with TensorBoard"
      ]
    },
    {
      "cell_type": "code",
      "execution_count": null,
      "metadata": {
        "id": "VGIp_42yClW9"
      },
      "outputs": [],
      "source": [
        "model = get_mnist_model()\n",
        "model.compile(optimizer=\"rmsprop\",\n",
        "              loss=\"sparse_categorical_crossentropy\",\n",
        "              metrics=[\"accuracy\"])\n",
        "\n",
        "tensorboard = keras.callbacks.TensorBoard(\n",
        "    log_dir=\"/full_path_to_your_log_dir\",\n",
        ")\n",
        "model.fit(train_images, train_labels,\n",
        "          epochs=10,\n",
        "          validation_data=(val_images, val_labels),\n",
        "          callbacks=[tensorboard])"
      ]
    },
    {
      "cell_type": "code",
      "execution_count": null,
      "metadata": {
        "id": "9N9upOHAClW9"
      },
      "outputs": [],
      "source": [
        "%load_ext tensorboard\n",
        "%tensorboard --logdir /full_path_to_your_log_dir"
      ]
    },
    {
      "cell_type": "markdown",
      "metadata": {
        "id": "Y6WHQpF4ClW9"
      },
      "source": [
        "## Writing your own training and evaluation loops"
      ]
    },
    {
      "cell_type": "markdown",
      "metadata": {
        "id": "1r1JLbm4ClW9"
      },
      "source": [
        "### Training versus inference"
      ]
    },
    {
      "cell_type": "markdown",
      "metadata": {
        "id": "S-z5HSabClW9"
      },
      "source": [
        "### Low-level usage of metrics"
      ]
    },
    {
      "cell_type": "code",
      "execution_count": null,
      "metadata": {
        "id": "tQtlzmaSClW9"
      },
      "outputs": [],
      "source": [
        "metric = keras.metrics.SparseCategoricalAccuracy()\n",
        "targets = [0, 1, 2]\n",
        "predictions = [[1, 0, 0], [0, 1, 0], [0, 0, 1]]\n",
        "metric.update_state(targets, predictions)\n",
        "current_result = metric.result()\n",
        "print(f\"result: {current_result:.2f}\")"
      ]
    },
    {
      "cell_type": "code",
      "execution_count": null,
      "metadata": {
        "id": "Qw8G3aEtClW9"
      },
      "outputs": [],
      "source": [
        "values = [0, 1, 2, 3, 4]\n",
        "mean_tracker = keras.metrics.Mean()\n",
        "for value in values:\n",
        "    mean_tracker.update_state(value)\n",
        "print(f\"Mean of values: {mean_tracker.result():.2f}\")"
      ]
    },
    {
      "cell_type": "markdown",
      "metadata": {
        "id": "aVcOE1qyClW9"
      },
      "source": [
        "### A complete training and evaluation loop"
      ]
    },
    {
      "cell_type": "markdown",
      "metadata": {
        "id": "zqfS5YnbClW9"
      },
      "source": [
        "**Writing a step-by-step training loop: the training step function**"
      ]
    },
    {
      "cell_type": "code",
      "execution_count": null,
      "metadata": {
        "id": "W73k5YJzClW9"
      },
      "outputs": [],
      "source": [
        "model = get_mnist_model()\n",
        "\n",
        "loss_fn = keras.losses.SparseCategoricalCrossentropy()\n",
        "optimizer = keras.optimizers.RMSprop()\n",
        "metrics = [keras.metrics.SparseCategoricalAccuracy()]\n",
        "loss_tracking_metric = keras.metrics.Mean()\n",
        "\n",
        "def train_step(inputs, targets):\n",
        "    with tf.GradientTape() as tape:\n",
        "        predictions = model(inputs, training=True)\n",
        "        loss = loss_fn(targets, predictions)\n",
        "    gradients = tape.gradient(loss, model.trainable_weights)\n",
        "    optimizer.apply_gradients(zip(gradients, model.trainable_weights))\n",
        "\n",
        "    logs = {}\n",
        "    for metric in metrics:\n",
        "        metric.update_state(targets, predictions)\n",
        "        logs[metric.name] = metric.result()\n",
        "\n",
        "    loss_tracking_metric.update_state(loss)\n",
        "    logs[\"loss\"] = loss_tracking_metric.result()\n",
        "    return logs"
      ]
    },
    {
      "cell_type": "markdown",
      "metadata": {
        "id": "1EgkUijNClW9"
      },
      "source": [
        "**Writing a step-by-step training loop: resetting the metrics**"
      ]
    },
    {
      "cell_type": "code",
      "execution_count": null,
      "metadata": {
        "id": "k6OI1sTMClW-"
      },
      "outputs": [],
      "source": [
        "def reset_metrics():\n",
        "    for metric in metrics:\n",
        "        metric.reset_state()\n",
        "    loss_tracking_metric.reset_state()"
      ]
    },
    {
      "cell_type": "markdown",
      "metadata": {
        "id": "cfnQW0AjClW-"
      },
      "source": [
        "**Writing a step-by-step training loop: the loop itself**"
      ]
    },
    {
      "cell_type": "code",
      "execution_count": null,
      "metadata": {
        "id": "1is17sgaClW-"
      },
      "outputs": [],
      "source": [
        "training_dataset = tf.data.Dataset.from_tensor_slices((train_images, train_labels))\n",
        "training_dataset = training_dataset.batch(32)\n",
        "epochs = 3\n",
        "for epoch in range(epochs):\n",
        "    reset_metrics()\n",
        "    for inputs_batch, targets_batch in training_dataset:\n",
        "        logs = train_step(inputs_batch, targets_batch)\n",
        "    print(f\"Results at the end of epoch {epoch}\")\n",
        "    for key, value in logs.items():\n",
        "        print(f\"...{key}: {value:.4f}\")"
      ]
    },
    {
      "cell_type": "markdown",
      "metadata": {
        "id": "gCUFA4tIClW-"
      },
      "source": [
        "**Writing a step-by-step evaluation loop**"
      ]
    },
    {
      "cell_type": "code",
      "execution_count": null,
      "metadata": {
        "id": "vAAZPXygClW-"
      },
      "outputs": [],
      "source": [
        "def test_step(inputs, targets):\n",
        "    predictions = model(inputs, training=False)\n",
        "    loss = loss_fn(targets, predictions)\n",
        "\n",
        "    logs = {}\n",
        "    for metric in metrics:\n",
        "        metric.update_state(targets, predictions)\n",
        "        logs[\"val_\" + metric.name] = metric.result()\n",
        "\n",
        "    loss_tracking_metric.update_state(loss)\n",
        "    logs[\"val_loss\"] = loss_tracking_metric.result()\n",
        "    return logs\n",
        "\n",
        "val_dataset = tf.data.Dataset.from_tensor_slices((val_images, val_labels))\n",
        "val_dataset = val_dataset.batch(32)\n",
        "reset_metrics()\n",
        "for inputs_batch, targets_batch in val_dataset:\n",
        "    logs = test_step(inputs_batch, targets_batch)\n",
        "print(\"Evaluation results:\")\n",
        "for key, value in logs.items():\n",
        "    print(f\"...{key}: {value:.4f}\")"
      ]
    },
    {
      "cell_type": "markdown",
      "metadata": {
        "id": "w0JPhb-LClW_"
      },
      "source": [
        "### Make it fast with tf.function"
      ]
    },
    {
      "cell_type": "markdown",
      "metadata": {
        "id": "VJBEwCfxClW_"
      },
      "source": [
        "**Adding a `tf.function` decorator to our evaluation-step function**"
      ]
    },
    {
      "cell_type": "code",
      "execution_count": null,
      "metadata": {
        "id": "goV35-rfClW_"
      },
      "outputs": [],
      "source": [
        "@tf.function\n",
        "def test_step(inputs, targets):\n",
        "    predictions = model(inputs, training=False)\n",
        "    loss = loss_fn(targets, predictions)\n",
        "\n",
        "    logs = {}\n",
        "    for metric in metrics:\n",
        "        metric.update_state(targets, predictions)\n",
        "        logs[\"val_\" + metric.name] = metric.result()\n",
        "\n",
        "    loss_tracking_metric.update_state(loss)\n",
        "    logs[\"val_loss\"] = loss_tracking_metric.result()\n",
        "    return logs\n",
        "\n",
        "val_dataset = tf.data.Dataset.from_tensor_slices((val_images, val_labels))\n",
        "val_dataset = val_dataset.batch(32)\n",
        "reset_metrics()\n",
        "for inputs_batch, targets_batch in val_dataset:\n",
        "    logs = test_step(inputs_batch, targets_batch)\n",
        "print(\"Evaluation results:\")\n",
        "for key, value in logs.items():\n",
        "    print(f\"...{key}: {value:.4f}\")"
      ]
    },
    {
      "cell_type": "markdown",
      "metadata": {
        "id": "UtBEWvWVClXA"
      },
      "source": [
        "### Leveraging fit() with a custom training loop"
      ]
    },
    {
      "cell_type": "markdown",
      "metadata": {
        "id": "Lb51HrowClXA"
      },
      "source": [
        "**Implementing a custom training step to use with `fit()`**"
      ]
    },
    {
      "cell_type": "code",
      "execution_count": null,
      "metadata": {
        "id": "LImtnM2_ClXA"
      },
      "outputs": [],
      "source": [
        "loss_fn = keras.losses.SparseCategoricalCrossentropy()\n",
        "loss_tracker = keras.metrics.Mean(name=\"loss\")\n",
        "\n",
        "class CustomModel(keras.Model):\n",
        "    def train_step(self, data):\n",
        "        inputs, targets = data\n",
        "        with tf.GradientTape() as tape:\n",
        "            predictions = self(inputs, training=True)\n",
        "            loss = loss_fn(targets, predictions)\n",
        "        gradients = tape.gradient(loss, self.trainable_weights)\n",
        "        self.optimizer.apply_gradients(zip(gradients, self.trainable_weights))\n",
        "\n",
        "        loss_tracker.update_state(loss)\n",
        "        return {\"loss\": loss_tracker.result()}\n",
        "\n",
        "    @property\n",
        "    def metrics(self):\n",
        "        return [loss_tracker]"
      ]
    },
    {
      "cell_type": "code",
      "execution_count": null,
      "metadata": {
        "id": "Eu2W85h5ClXA"
      },
      "outputs": [],
      "source": [
        "inputs = keras.Input(shape=(28 * 28,))\n",
        "features = layers.Dense(512, activation=\"relu\")(inputs)\n",
        "features = layers.Dropout(0.5)(features)\n",
        "outputs = layers.Dense(10, activation=\"softmax\")(features)\n",
        "model = CustomModel(inputs, outputs)\n",
        "\n",
        "model.compile(optimizer=keras.optimizers.RMSprop())\n",
        "model.fit(train_images, train_labels, epochs=3)"
      ]
    },
    {
      "cell_type": "code",
      "execution_count": null,
      "metadata": {
        "id": "z7sCbA_wClXA"
      },
      "outputs": [],
      "source": [
        "class CustomModel(keras.Model):\n",
        "    def train_step(self, data):\n",
        "        inputs, targets = data\n",
        "        with tf.GradientTape() as tape:\n",
        "            predictions = self(inputs, training=True)\n",
        "            loss = self.compiled_loss(targets, predictions)\n",
        "        gradients = tape.gradient(loss, self.trainable_weights)\n",
        "        self.optimizer.apply_gradients(zip(gradients, self.trainable_weights))\n",
        "        self.compiled_metrics.update_state(targets, predictions)\n",
        "        return {m.name: m.result() for m in self.metrics}"
      ]
    },
    {
      "cell_type": "code",
      "execution_count": null,
      "metadata": {
        "id": "kqAWijTIClXA"
      },
      "outputs": [],
      "source": [
        "inputs = keras.Input(shape=(28 * 28,))\n",
        "features = layers.Dense(512, activation=\"relu\")(inputs)\n",
        "features = layers.Dropout(0.5)(features)\n",
        "outputs = layers.Dense(10, activation=\"softmax\")(features)\n",
        "model = CustomModel(inputs, outputs)\n",
        "\n",
        "model.compile(optimizer=keras.optimizers.RMSprop(),\n",
        "              loss=keras.losses.SparseCategoricalCrossentropy(),\n",
        "              metrics=[keras.metrics.SparseCategoricalAccuracy()])\n",
        "model.fit(train_images, train_labels, epochs=3)"
      ]
    },
    {
      "cell_type": "markdown",
      "metadata": {
        "id": "CDT873YYClXA"
      },
      "source": [
        "## Summary"
      ]
    }
  ],
  "metadata": {
    "colab": {
      "collapsed_sections": [],
      "provenance": [],
      "toc_visible": true
    },
    "kernelspec": {
      "display_name": "Python 3",
      "language": "python",
      "name": "python3"
    },
    "language_info": {
      "codemirror_mode": {
        "name": "ipython",
        "version": 3
      },
      "file_extension": ".py",
      "mimetype": "text/x-python",
      "name": "python",
      "nbconvert_exporter": "python",
      "pygments_lexer": "ipython3",
      "version": "3.7.0"
    }
  },
  "nbformat": 4,
  "nbformat_minor": 0
}